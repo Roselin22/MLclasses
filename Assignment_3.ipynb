{
  "nbformat": 4,
  "nbformat_minor": 0,
  "metadata": {
    "colab": {
      "name": "Assignment 3.ipynb",
      "provenance": [],
      "collapsed_sections": [],
      "authorship_tag": "ABX9TyOAy/q07w5X/BLu/zohBQLU",
      "include_colab_link": true
    },
    "kernelspec": {
      "name": "python3",
      "display_name": "Python 3"
    }
  },
  "cells": [
    {
      "cell_type": "markdown",
      "metadata": {
        "id": "view-in-github",
        "colab_type": "text"
      },
      "source": [
        "<a href=\"https://colab.research.google.com/github/Roselin22/MLclasses/blob/master/Assignment_3.ipynb\" target=\"_parent\"><img src=\"https://colab.research.google.com/assets/colab-badge.svg\" alt=\"Open In Colab\"/></a>"
      ]
    },
    {
      "cell_type": "markdown",
      "metadata": {
        "id": "vd0s8Y0l_K5k",
        "colab_type": "text"
      },
      "source": [
        "1.1 Write a Python Program to implement your own myreduce() function which works exactly\n",
        "like Python's built-in function reduce()"
      ]
    },
    {
      "cell_type": "code",
      "metadata": {
        "id": "axIlwnVGh6O7",
        "colab_type": "code",
        "outputId": "76a420b0-e1e7-4f19-96e7-245f79ef8fcb",
        "colab": {
          "base_uri": "https://localhost:8080/",
          "height": 34
        }
      },
      "source": [
        "#taking my own reduce function\n",
        "def do_sum(x1, x2): \n",
        "    return x1 + x2\n",
        "\n",
        "#defining my_reduce function\n",
        "def my_reduce(func, seq):\n",
        "    first = seq[0]\n",
        "    for i in seq[1:]:\n",
        "        first = func(first, i)\n",
        "    return first\n",
        "\n",
        "print(my_reduce(do_sum, [1, 2, 3, 4]))"
      ],
      "execution_count": 40,
      "outputs": [
        {
          "output_type": "stream",
          "text": [
            "10\n"
          ],
          "name": "stdout"
        }
      ]
    },
    {
      "cell_type": "markdown",
      "metadata": {
        "id": "VMQ1WehWvN5H",
        "colab_type": "text"
      },
      "source": [
        "1.2 Write a Python program to implement your own myfilter() function which works exactly like Python's built-in function filter()"
      ]
    },
    {
      "cell_type": "code",
      "metadata": {
        "id": "cbviOiQTh8jo",
        "colab_type": "code",
        "outputId": "2ae6e0f4-24ad-462a-9ce0-6bb71da80465",
        "colab": {
          "base_uri": "https://localhost:8080/",
          "height": 34
        }
      },
      "source": [
        "#defining my filter function\n",
        "def myfilter(anyfunc, sequence):\n",
        "\n",
        " result = []\n",
        " for i in sequence:\n",
        "  if anyfunc(i):\n",
        "   result.append(i)\n",
        " return result\n",
        "\n",
        "# taking my own my filter function\n",
        "def isdivisible(x):\n",
        " if (x%2 == 0): \n",
        "  return True \n",
        " else:\n",
        "  return False\n",
        "\n",
        "print(\"The numbers which are divisible by 2 from list[6,0,1,3,4,8] are: \" +str(myfilter(isdivisible,[6,0,1,3,4,8])))"
      ],
      "execution_count": 51,
      "outputs": [
        {
          "output_type": "stream",
          "text": [
            "The numbers which are divisible by 2 from list[6,0,1,3,4,8] are: [6, 0, 4, 8]\n"
          ],
          "name": "stdout"
        }
      ]
    },
    {
      "cell_type": "markdown",
      "metadata": {
        "id": "VG9wc1OH7f5b",
        "colab_type": "text"
      },
      "source": [
        "2. Implement List comprehensions to produce the following lists.\n",
        "Write List comprehensions to produce the following Lists"
      ]
    },
    {
      "cell_type": "markdown",
      "metadata": {
        "id": "JQQGqx1V63_i",
        "colab_type": "text"
      },
      "source": [
        "['x', 'y', 'z', 'xx', 'yy', 'zz', 'xxx', 'yyy', 'zzz', 'xxxx', 'yyyy', 'zzzz']"
      ]
    },
    {
      "cell_type": "code",
      "metadata": {
        "id": "Mh63IrUs5KFp",
        "colab_type": "code",
        "outputId": "2f277509-7233-4e73-c052-b15636efd3b7",
        "colab": {
          "base_uri": "https://localhost:8080/",
          "height": 34
        }
      },
      "source": [
        "\n",
        "list = ['x','y','z']\n",
        "result = [ item*num for num in range(1,5) for item in list  ]\n",
        "print(\"['x','y','z'] => \" +   str(result))"
      ],
      "execution_count": 42,
      "outputs": [
        {
          "output_type": "stream",
          "text": [
            "['x','y','z'] => ['x', 'y', 'z', 'xx', 'yy', 'zz', 'xxx', 'yyy', 'zzz', 'xxxx', 'yyyy', 'zzzz']\n"
          ],
          "name": "stdout"
        }
      ]
    },
    {
      "cell_type": "markdown",
      "metadata": {
        "id": "qMXJQGS06mmz",
        "colab_type": "text"
      },
      "source": [
        "['x', 'xx', 'xxx', 'xxxx', 'y', 'yy', 'yyy', 'yyyy', 'z', 'zz', 'zzz', 'zzzz']"
      ]
    },
    {
      "cell_type": "code",
      "metadata": {
        "id": "gwzHCeYG8UwM",
        "colab_type": "code",
        "outputId": "ccd4b2b1-083b-43bc-99df-142532b62c28",
        "colab": {
          "base_uri": "https://localhost:8080/",
          "height": 34
        }
      },
      "source": [
        "list = ['x','y','z']\n",
        "result = [ item*num for item in list for num in range(1,5)  ]\n",
        "print(\"['x','y','z'] => \" +   str(result))"
      ],
      "execution_count": 43,
      "outputs": [
        {
          "output_type": "stream",
          "text": [
            "['x','y','z'] => ['x', 'xx', 'xxx', 'xxxx', 'y', 'yy', 'yyy', 'yyyy', 'z', 'zz', 'zzz', 'zzzz']\n"
          ],
          "name": "stdout"
        }
      ]
    },
    {
      "cell_type": "markdown",
      "metadata": {
        "id": "UBs4ETDU8oXP",
        "colab_type": "text"
      },
      "source": [
        "[[2], [3], [4], [3], [4], [5], [4], [5], [6]]"
      ]
    },
    {
      "cell_type": "code",
      "metadata": {
        "id": "Wlng24z958Zd",
        "colab_type": "code",
        "outputId": "1b31b81c-0b5d-42b9-d12d-27598bb42d1c",
        "colab": {
          "base_uri": "https://localhost:8080/",
          "height": 34
        }
      },
      "source": [
        "list = [2,3,4]\n",
        "result = [ [item+num] for item in list for num in range(0,3)]\n",
        "print(\"[2,3,4] =>\" +  str(result))"
      ],
      "execution_count": 44,
      "outputs": [
        {
          "output_type": "stream",
          "text": [
            "[2,3,4] =>[[2], [3], [4], [3], [4], [5], [4], [5], [6]]\n"
          ],
          "name": "stdout"
        }
      ]
    },
    {
      "cell_type": "markdown",
      "metadata": {
        "id": "_c2wNhA28xH7",
        "colab_type": "text"
      },
      "source": [
        "[[2, 3, 4, 5], [3, 4, 5, 6],[4, 5, 6, 7],[5, 6, 7, 8]]"
      ]
    },
    {
      "cell_type": "code",
      "metadata": {
        "id": "sMH4NDfR58bD",
        "colab_type": "code",
        "outputId": "8252196f-bab3-4065-832b-2265982ab468",
        "colab": {
          "base_uri": "https://localhost:8080/",
          "height": 34
        }
      },
      "source": [
        "list = [2,3,4,5]\n",
        "result = [ [item+num for item in list] for num in range(0,4)  ]\n",
        "print(\"[2,3,4,5] =>\" +  str(result))"
      ],
      "execution_count": 45,
      "outputs": [
        {
          "output_type": "stream",
          "text": [
            "[2,3,4,5] =>[[2, 3, 4, 5], [3, 4, 5, 6], [4, 5, 6, 7], [5, 6, 7, 8]]\n"
          ],
          "name": "stdout"
        }
      ]
    },
    {
      "cell_type": "markdown",
      "metadata": {
        "id": "2Av-bS_v9MmV",
        "colab_type": "text"
      },
      "source": [
        "[(1, 1), (2, 1), (3, 1), (1, 2), (2, 2), (3, 2), (1, 3), (2, 3), (3, 3)]"
      ]
    },
    {
      "cell_type": "code",
      "metadata": {
        "id": "_1oy6bPc-C-S",
        "colab_type": "code",
        "outputId": "f4282852-2c55-4003-e89b-f05acb916897",
        "colab": {
          "base_uri": "https://localhost:8080/",
          "height": 34
        }
      },
      "source": [
        "list=[1,2,3]\n",
        "result = [ (b,a) for a in list for b in list]\n",
        "print(\"[1,2,3] =>\" +  str(result))"
      ],
      "execution_count": 52,
      "outputs": [
        {
          "output_type": "stream",
          "text": [
            "[1,2,3] =>[(1, 1), (2, 1), (3, 1), (1, 2), (2, 2), (3, 2), (1, 3), (2, 3), (3, 3)]\n"
          ],
          "name": "stdout"
        }
      ]
    }
  ]
}