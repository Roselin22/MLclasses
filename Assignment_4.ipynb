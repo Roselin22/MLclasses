{
  "nbformat": 4,
  "nbformat_minor": 0,
  "metadata": {
    "colab": {
      "name": "Assignment 4.ipynb",
      "provenance": [],
      "collapsed_sections": [],
      "include_colab_link": true
    },
    "kernelspec": {
      "name": "python3",
      "display_name": "Python 3"
    }
  },
  "cells": [
    {
      "cell_type": "markdown",
      "metadata": {
        "id": "view-in-github",
        "colab_type": "text"
      },
      "source": [
        "<a href=\"https://colab.research.google.com/github/Roselin22/MLclasses/blob/master/Assignment_4.ipynb\" target=\"_parent\"><img src=\"https://colab.research.google.com/assets/colab-badge.svg\" alt=\"Open In Colab\"/></a>"
      ]
    },
    {
      "cell_type": "markdown",
      "metadata": {
        "id": "E75QNkDWwqcu",
        "colab_type": "text"
      },
      "source": [
        "Write a Python Program(with class concepts) to find the area of the triangle using the below\n",
        "formula.\n",
        "area = (s*(s-a)*(s-b)*(s-c)) ** 0.5\n",
        "Function to take the length of the sides of triangle from user should be defined in the parent\n",
        "class and function to calculate the area should be defined in subclass."
      ]
    },
    {
      "cell_type": "code",
      "metadata": {
        "id": "PvaA8VEF2i-U",
        "colab_type": "code",
        "colab": {}
      },
      "source": [
        "class Triangle():\n",
        "    def user_input(self):\n",
        "        self.a= float(input(\"enter first side a:\"))\n",
        "        self.b= float(input(\"enter first side b:\"))\n",
        "        self.c= float(input(\"enter first side c:\"))"
      ],
      "execution_count": 0,
      "outputs": []
    },
    {
      "cell_type": "code",
      "metadata": {
        "id": "joE0plwcKOs4",
        "colab_type": "code",
        "colab": {}
      },
      "source": [
        "class Triangle_child(Triangle):\n",
        "    def __init__(self):\n",
        "        super().user_input()\n",
        "        \n",
        "    def area(self):\n",
        "        a=self.a\n",
        "        b=self.b\n",
        "        c=self.c\n",
        "        s= (a + b + c) / 2;\n",
        "        \n",
        "        triangle_area = (s*(s-self.a)*(s-self.b)*(s-self.c))**0.5\n",
        "        return triangle_area\n"
      ],
      "execution_count": 0,
      "outputs": []
    },
    {
      "cell_type": "code",
      "metadata": {
        "id": "oT1ZR8Ba3I6f",
        "colab_type": "code",
        "colab": {
          "base_uri": "https://localhost:8080/",
          "height": 85
        },
        "outputId": "f1ac8a7e-d54e-48ac-94fd-4ef2f422b583"
      },
      "source": [
        "triangle= Triangle_child()\n",
        "print(\"Area of triangle with given sides : \" , triangle.area())"
      ],
      "execution_count": 20,
      "outputs": [
        {
          "output_type": "stream",
          "text": [
            "enter first side a:3\n",
            "enter first side b:4\n",
            "enter first side c:5\n",
            "Area of triangle with given sides :  6.0\n"
          ],
          "name": "stdout"
        }
      ]
    },
    {
      "cell_type": "markdown",
      "metadata": {
        "id": "BoP7P1Gdf_I1",
        "colab_type": "text"
      },
      "source": [
        "Write a function filter_long_words() that takes a list of words and an integer n and returns the list of words that are longer than n.\n"
      ]
    },
    {
      "cell_type": "code",
      "metadata": {
        "id": "7RpPLD7yGrTC",
        "colab_type": "code",
        "colab": {
          "base_uri": "https://localhost:8080/",
          "height": 34
        },
        "outputId": "f75437d1-8168-4a3b-9aa9-b7cbeeeb5ec1"
      },
      "source": [
        "def long_words(n, str):  \n",
        "    word_len = []  \n",
        "    txt = str.split(\" \")  \n",
        "    for x in txt:  \n",
        "        if len(x) > n:  \n",
        "            word_len.append(x)  \n",
        "    return word_len   \n",
        "print(long_words(3, \"she sells seashells on the sea shore\"))"
      ],
      "execution_count": 21,
      "outputs": [
        {
          "output_type": "stream",
          "text": [
            "['sells', 'seashells', 'shore']\n"
          ],
          "name": "stdout"
        }
      ]
    },
    {
      "cell_type": "markdown",
      "metadata": {
        "id": "Rc-xodTghB_L",
        "colab_type": "text"
      },
      "source": [
        "Write a Python program using function concept that maps list of words into a list of integers\n",
        "representing the lengths of the corresponding words.\n",
        "Hint: If a list [ ab,cde,erty] is passed on to the python function output should come as [2,3,4]\n",
        "Here 2,3 and 4 are the lengths of the words in the list."
      ]
    },
    {
      "cell_type": "code",
      "metadata": {
        "id": "O0kDdS-EXS07",
        "colab_type": "code",
        "colab": {}
      },
      "source": [
        "def word_len(words):\n",
        "    return len(words)"
      ],
      "execution_count": 0,
      "outputs": []
    },
    {
      "cell_type": "code",
      "metadata": {
        "id": "-9ki_7OuiFiY",
        "colab_type": "code",
        "colab": {}
      },
      "source": [
        "l = ['rose', 'cycle', 'abc']\n",
        "result = map(word_len, l)"
      ],
      "execution_count": 0,
      "outputs": []
    },
    {
      "cell_type": "code",
      "metadata": {
        "id": "54TYf1sxiXWT",
        "colab_type": "code",
        "outputId": "286d182f-c29e-4674-8604-d789995e6ae5",
        "colab": {
          "base_uri": "https://localhost:8080/",
          "height": 34
        }
      },
      "source": [
        "list(result)"
      ],
      "execution_count": 24,
      "outputs": [
        {
          "output_type": "execute_result",
          "data": {
            "text/plain": [
              "[4, 5, 3]"
            ]
          },
          "metadata": {
            "tags": []
          },
          "execution_count": 24
        }
      ]
    },
    {
      "cell_type": "markdown",
      "metadata": {
        "id": "bt6RTeymtjFC",
        "colab_type": "text"
      },
      "source": [
        "Write a Python function which takes a character (i.e. a string of length 1) and returns True if\n",
        "it is a vowel, False otherwise."
      ]
    },
    {
      "cell_type": "code",
      "metadata": {
        "id": "ZNxvely0tiH7",
        "colab_type": "code",
        "colab": {}
      },
      "source": [
        "def alphabet_vowel(char):\n",
        "  if char == \"a\" or char == \"e\" or char == \"i\" or char == \"o\" or char == \"u\":\n",
        "    return True\n",
        "  else:\n",
        "    return False"
      ],
      "execution_count": 0,
      "outputs": []
    },
    {
      "cell_type": "code",
      "metadata": {
        "id": "ocyPRfhxcDV1",
        "colab_type": "code",
        "colab": {
          "base_uri": "https://localhost:8080/",
          "height": 51
        },
        "outputId": "bc2c0ee2-f16e-4b62-fcac-29c0dc89dff4"
      },
      "source": [
        "alphabet_vowel(input(\"enter the char:\"))"
      ],
      "execution_count": 26,
      "outputs": [
        {
          "output_type": "stream",
          "text": [
            "enter the char:i\n"
          ],
          "name": "stdout"
        },
        {
          "output_type": "execute_result",
          "data": {
            "text/plain": [
              "True"
            ]
          },
          "metadata": {
            "tags": []
          },
          "execution_count": 26
        }
      ]
    }
  ]
}