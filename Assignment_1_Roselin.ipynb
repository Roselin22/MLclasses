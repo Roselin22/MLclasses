{
  "nbformat": 4,
  "nbformat_minor": 0,
  "metadata": {
    "colab": {
      "name": "Assignment 1_Roselin",
      "provenance": [],
      "collapsed_sections": [],
      "include_colab_link": true
    },
    "kernelspec": {
      "name": "python3",
      "display_name": "Python 3"
    }
  },
  "cells": [
    {
      "cell_type": "markdown",
      "metadata": {
        "id": "view-in-github",
        "colab_type": "text"
      },
      "source": [
        "<a href=\"https://colab.research.google.com/github/Roselin22/MLclasses/blob/master/Assignment_1_Roselin.ipynb\" target=\"_parent\"><img src=\"https://colab.research.google.com/assets/colab-badge.svg\" alt=\"Open In Colab\"/></a>"
      ]
    },
    {
      "cell_type": "markdown",
      "metadata": {
        "id": "nxVkUxd8X1Hc",
        "colab_type": "text"
      },
      "source": [
        "Q1:"
      ]
    },
    {
      "cell_type": "code",
      "metadata": {
        "id": "5ddYSPNCCAKI",
        "colab_type": "code",
        "outputId": "425e045f-5791-4f16-fd18-dcb178415d3e",
        "colab": {
          "base_uri": "https://localhost:8080/",
          "height": 54
        }
      },
      "source": [
        "l=[]\n",
        "\n",
        "for i in range(2000,3200):\n",
        "    if(i%7==0) and (i%5!=0):\n",
        "        l.append(str(i))\n",
        "print (','.join(l))"
      ],
      "execution_count": 0,
      "outputs": [
        {
          "output_type": "stream",
          "text": [
            "2002,2009,2016,2023,2037,2044,2051,2058,2072,2079,2086,2093,2107,2114,2121,2128,2142,2149,2156,2163,2177,2184,2191,2198,2212,2219,2226,2233,2247,2254,2261,2268,2282,2289,2296,2303,2317,2324,2331,2338,2352,2359,2366,2373,2387,2394,2401,2408,2422,2429,2436,2443,2457,2464,2471,2478,2492,2499,2506,2513,2527,2534,2541,2548,2562,2569,2576,2583,2597,2604,2611,2618,2632,2639,2646,2653,2667,2674,2681,2688,2702,2709,2716,2723,2737,2744,2751,2758,2772,2779,2786,2793,2807,2814,2821,2828,2842,2849,2856,2863,2877,2884,2891,2898,2912,2919,2926,2933,2947,2954,2961,2968,2982,2989,2996,3003,3017,3024,3031,3038,3052,3059,3066,3073,3087,3094,3101,3108,3122,3129,3136,3143,3157,3164,3171,3178,3192,3199\n"
          ],
          "name": "stdout"
        }
      ]
    },
    {
      "cell_type": "markdown",
      "metadata": {
        "id": "A_1K4G59Ce8B",
        "colab_type": "text"
      },
      "source": [
        "Q 2:"
      ]
    },
    {
      "cell_type": "code",
      "metadata": {
        "id": "8Ojk7YVKCAFS",
        "colab_type": "code",
        "outputId": "60c7a484-a301-40b0-ae8b-1365ffbb7290",
        "colab": {
          "base_uri": "https://localhost:8080/",
          "height": 68
        }
      },
      "source": [
        "firstname = input(\"enter your first name: \")\n",
        "lastname = input(\"enter your last name: \")\n",
        "name=(firstname+' '+lastname)\n",
        "name = name[::-1]\n",
        "name"
      ],
      "execution_count": 0,
      "outputs": [
        {
          "output_type": "stream",
          "text": [
            "enter your first name: python\n",
            "enter your last name: panda\n"
          ],
          "name": "stdout"
        },
        {
          "output_type": "execute_result",
          "data": {
            "text/plain": [
              "'adnap nohtyp'"
            ]
          },
          "metadata": {
            "tags": []
          },
          "execution_count": 2
        }
      ]
    },
    {
      "cell_type": "markdown",
      "metadata": {
        "id": "a7T7r5fUrPfP",
        "colab_type": "text"
      },
      "source": [
        "Q3:"
      ]
    },
    {
      "cell_type": "code",
      "metadata": {
        "id": "RiUrpb4mCAM8",
        "colab_type": "code",
        "outputId": "1fde45c7-7c5c-4ac5-af48-f6259728ce70",
        "colab": {
          "base_uri": "https://localhost:8080/",
          "height": 34
        }
      },
      "source": [
        "pi=22/7\n",
        "d=12\n",
        "r = d/2\n",
        "volume = (4/3) * (pi * r ** 3)\n",
        "print(\"Volume of the sphere is: \", volume)\n"
      ],
      "execution_count": 0,
      "outputs": [
        {
          "output_type": "stream",
          "text": [
            "Volume of the sphere is:  905.1428571428571\n"
          ],
          "name": "stdout"
        }
      ]
    },
    {
      "cell_type": "markdown",
      "metadata": {
        "id": "deHbyVWx3fqq",
        "colab_type": "text"
      },
      "source": [
        "Q4:"
      ]
    },
    {
      "cell_type": "code",
      "metadata": {
        "id": "9zdp5jyyYTUi",
        "colab_type": "code",
        "outputId": "50b1c7f9-6e66-45ce-acd1-3e2e3ac8fa58",
        "colab": {
          "base_uri": "https://localhost:8080/",
          "height": 51
        }
      },
      "source": [
        "i = input(\"enter numbers with comma: \")\n",
        "list = i.split(\",\")\n",
        "print('List : ',list)"
      ],
      "execution_count": 0,
      "outputs": [
        {
          "output_type": "stream",
          "text": [
            "enter numbers with comma: 34,876,445,978,24,56767,876,32,655,67\n",
            "List :  ['34', '876', '445', '978', '24', '56767', '876', '32', '655', '67']\n"
          ],
          "name": "stdout"
        }
      ]
    },
    {
      "cell_type": "markdown",
      "metadata": {
        "id": "wCP7L088vUJt",
        "colab_type": "text"
      },
      "source": [
        "Q5:"
      ]
    },
    {
      "cell_type": "code",
      "metadata": {
        "id": "cYcTJSyWYTXA",
        "colab_type": "code",
        "outputId": "9876739c-863a-4f40-9ee1-e6e4b0f2a85b",
        "colab": {
          "base_uri": "https://localhost:8080/",
          "height": 187
        }
      },
      "source": [
        "n=5;\n",
        "for i in range(n):\n",
        "    for j in range(i):\n",
        "        print ('* ', end='')\n",
        "    print('')\n",
        "\n",
        "for i in range(n,0,-1):\n",
        "    for j in range(i):\n",
        "        print('* ', end='')\n",
        "    print('')"
      ],
      "execution_count": 0,
      "outputs": [
        {
          "output_type": "stream",
          "text": [
            "\n",
            "* \n",
            "* * \n",
            "* * * \n",
            "* * * * \n",
            "* * * * * \n",
            "* * * * \n",
            "* * * \n",
            "* * \n",
            "* \n"
          ],
          "name": "stdout"
        }
      ]
    },
    {
      "cell_type": "markdown",
      "metadata": {
        "id": "C-ezsQCyyoL3",
        "colab_type": "text"
      },
      "source": [
        "Q6:"
      ]
    },
    {
      "cell_type": "code",
      "metadata": {
        "id": "CfaSJAhZYTZ-",
        "colab_type": "code",
        "outputId": "c3e5a3b8-d6ab-47c4-84d8-4e7a378daaaa",
        "colab": {
          "base_uri": "https://localhost:8080/",
          "height": 51
        }
      },
      "source": [
        "i = input(\"enter your name:\")\n",
        "print(i[::-1])"
      ],
      "execution_count": 0,
      "outputs": [
        {
          "output_type": "stream",
          "text": [
            "enter your name:rose\n",
            "esor\n"
          ],
          "name": "stdout"
        }
      ]
    },
    {
      "cell_type": "markdown",
      "metadata": {
        "id": "ze-clpsb3ayO",
        "colab_type": "text"
      },
      "source": [
        "Q7:"
      ]
    },
    {
      "cell_type": "code",
      "metadata": {
        "id": "j-EUjrLCYTc6",
        "colab_type": "code",
        "colab": {
          "base_uri": "https://localhost:8080/",
          "height": 85
        },
        "outputId": "acc7cfd9-7a8d-4387-da8f-c9106fd38109"
      },
      "source": [
        "a= \"WE, THE PEOPLE OF INDIA,\"\n",
        "b= \"having solemnly resolved to constitute India into a SOVEREIGN, !\"\n",
        "c= \"SOCIALIST, SECULAR, DEMOCRATIC REPUBLIC\"\n",
        "d= \" and to secure to all its citizens\"\n",
        "\n",
        "print(a,\"\\n\\t\",b,\"\\n\\t\\t\",c,\"\\n\\t\\t\",d)"
      ],
      "execution_count": 7,
      "outputs": [
        {
          "output_type": "stream",
          "text": [
            "WE, THE PEOPLE OF INDIA, \n",
            "\t having solemnly resolved to constitute India into a SOVEREIGN, ! \n",
            "\t\t SOCIALIST, SECULAR, DEMOCRATIC REPUBLIC \n",
            "\t\t  and to secure to all its citizens\n"
          ],
          "name": "stdout"
        }
      ]
    }
  ]
}